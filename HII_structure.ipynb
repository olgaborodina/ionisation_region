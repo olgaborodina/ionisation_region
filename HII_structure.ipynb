{
 "cells": [
  {
   "cell_type": "markdown",
   "metadata": {},
   "source": [
    "## libs"
   ]
  },
  {
   "cell_type": "code",
   "execution_count": 536,
   "metadata": {},
   "outputs": [],
   "source": [
    "import matplotlib.pyplot as plt\n",
    "import pandas as pd\n",
    "import numpy as np\n",
    "import math as m\n",
    "#from scipy.interpolate import interp1d\n",
    "#import scipy.optimize\n",
    "import scipy.integrate as integrate"
   ]
  },
  {
   "cell_type": "markdown",
   "metadata": {},
   "source": [
    "## constants"
   ]
  },
  {
   "cell_type": "code",
   "execution_count": 537,
   "metadata": {},
   "outputs": [],
   "source": [
    "freq_ion = 3.29E15 #Herz\n",
    "freq_max = 5.0E16 #Herz\n",
    "alpha = 2.59E-13 #cm^3 per sec\n",
    "temperature = 40000 #Kelvins\n",
    "radius_star = 15 * 6.957E5 / (206264.8 * 149.6* 10**6)#pc\n",
    "r_inner = 0.05 #pc\n",
    "step = 0.001 #pc\n",
    "\n",
    "c = 2.99792458E10 #cm per sec , light speed\n",
    "h = 6.626070040812E-27 #erg*sec, Planck constant\n",
    "k = 1.380648528E-16 #erg/K, Boltzmann constant\n",
    "nH_total = 100 #cm^(-3)"
   ]
  },
  {
   "cell_type": "code",
   "execution_count": 543,
   "metadata": {},
   "outputs": [],
   "source": [
    "freq = np.geomspace (freq_ion, freq_max, 300)\n",
    "freq_tau = pd.DataFrame(data = {\"freq\" : freq, \"tau_previous\" : np.full(300, 0), \"tau_current\" : np.full(300, 0)})\n",
    "result = pd.DataFrame(data = {\"r\" : [r_inner], \"n_e\" : [100]})\n",
    "r_previous = r_inner\n",
    "r_current = r_inner + step \n",
    "check = True"
   ]
  },
  {
   "cell_type": "markdown",
   "metadata": {},
   "source": [
    "## functions"
   ]
  },
  {
   "cell_type": "code",
   "execution_count": 544,
   "metadata": {},
   "outputs": [],
   "source": [
    "def brightness(freq):\n",
    "    \"\"\"mean brightness\"\"\"\n",
    "    return 2 * h * freq**3 / c**2 / (np.exp(h * freq / (k * temperature)) - 1) \n",
    "    \n",
    "def sigma(freq):\n",
    "    \"\"\"return photoionization cross section\"\"\"\n",
    "    return 6.3E-18 * np.power (freq_ion / freq, 3)\n",
    "\n",
    "def tau_step(freq_tau):\n",
    "    \"\"\"opacity on distance r\"\"\"\n",
    "    tau_new = 2 * freq_tau['tau_current'] - freq_tau['tau_previous']\n",
    "    freq_tau['tau_previous'] = freq_tau['tau_current']\n",
    "    freq_tau['tau_current'] = tau_new \n",
    "\n",
    "def tau(result, freq, n_e):\n",
    "    return integrate.trapz((nH_total - result[\"n_e\"]), result[\"r\"] * (206264.8 * 149.6* 10**11)) * sigma(freq)  "
   ]
  },
  {
   "cell_type": "code",
   "execution_count": 545,
   "metadata": {},
   "outputs": [],
   "source": [
    "n_e = nH_total\n",
    "while np.abs(n_e)>0.001:\n",
    "    check = True\n",
    "    iteration = 0\n",
    "    while check:\n",
    "        PHI = integrate.trapz(m.pi * brightness(freq)  * (radius_star / r_current)**2 * np.exp(-freq_tau[\"tau_current\"]) * sigma(freq) / (h * freq), freq)\n",
    "        ksi = PHI / (n_e * alpha)\n",
    "        nH_neutral = nH_total / (1 + ksi)\n",
    "        nH_ionized = nH_total * ksi / (1 + ksi)\n",
    "        n_e_new = np.sqrt(n_e * nH_ionized)\n",
    "        if np.abs(n_e_new / n_e - 1) < 0.1E-5:\n",
    "            n_e = n_e_new\n",
    "            result = result.append(pd.DataFrame(data = {\"r\" : [r_current], \"n_e\" : [n_e], \"nH_neutral\" :[nH_neutral], \"PHI\": [PHI]}), ignore_index = True)\n",
    "            check = False\n",
    "        else:\n",
    "            n_e = n_e_new\n",
    "            freq_tau[\"tau_current\"] = tau(result, freq, n_e) + (nH_total - n_e) * sigma(freq) * step * (206264.8 * 149.6* 10**11)\n",
    "            iteration += 1\n",
    "    nH_neutral = nH_total - n_e\n",
    "    freq_tau[\"tau_current\"] = tau(result, freq, n_e)\n",
    "    tau_step(freq_tau)\n",
    "    r_previous = r_current\n",
    "    r_current += step    "
   ]
  },
  {
   "cell_type": "code",
   "execution_count": 546,
   "metadata": {},
   "outputs": [
    {
     "data": {
      "text/plain": [
       "Text(0.5, 0, 'r, pc')"
      ]
     },
     "execution_count": 546,
     "metadata": {},
     "output_type": "execute_result"
    },
    {
     "data": {
      "image/png": "[encoded data removed]",
      "text/plain": [
       "<Figure size 432x432 with 1 Axes>"
      ]
     },
     "metadata": {
      "needs_background": "light"
     },
     "output_type": "display_data"
    }
   ],
   "source": [
    "fig, ax = plt.subplots(figsize=(6, 6)) #16:14 is size ratio \n",
    "\n",
    "ax.plot(result['r'], result['n_e'], lw=2, c='black') \n",
    "ax.grid(c='#aaaaaa', ls='--')\n",
    "plt.ylabel(\"n_e, cm^-3\", size=20)\n",
    "plt.xlabel(\"r, pc\", size=20)"
   ]
  },
  {
   "cell_type": "code",
   "execution_count": null,
   "metadata": {},
   "outputs": [],
   "source": []
  }
 ],
 "metadata": {
  "kernelspec": {
   "display_name": "Python 3",
   "language": "python",
   "name": "python3"
  },
  "language_info": {
   "codemirror_mode": {
    "name": "ipython",
    "version": 3
   },
   "file_extension": ".py",
   "mimetype": "text/x-python",
   "name": "python",
   "nbconvert_exporter": "python",
   "pygments_lexer": "ipython3",
   "version": "3.7.2"
  }
 },
 "nbformat": 4,
 "nbformat_minor": 2
}
