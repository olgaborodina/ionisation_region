{
 "cells": [
  {
   "cell_type": "markdown",
   "metadata": {},
   "source": [
    "## libs"
   ]
  },
  {
   "cell_type": "code",
   "execution_count": 11,
   "metadata": {},
   "outputs": [],
   "source": [
    "#import matplotlib.pyplot as plt\n",
    "#import pandas as pd\n",
    "import numpy as np\n",
    "import math as m\n",
    "#from scipy.interpolate import interp1d\n",
    "#import scipy.optimize\n",
    "import scipy.integrate as integrate"
   ]
  },
  {
   "cell_type": "markdown",
   "metadata": {},
   "source": [
    "## constants"
   ]
  },
  {
   "cell_type": "markdown",
   "metadata": {},
   "source": [
    "ask: \n",
    "1) if radius value is correct; \n",
    "2) what are the limits for distances (r)?\n",
    "3) if temperature or any other parameters will be changed;"
   ]
  },
  {
   "cell_type": "code",
   "execution_count": 58,
   "metadata": {},
   "outputs": [],
   "source": [
    "freq_ion = 3.29 * 10**15 #Herz\n",
    "freq_max = 5 * 10**16 #Herz\n",
    "alpha = 2.59 * 10**(-22) #meter^3 per sec\n",
    "temperature = 40000 #Kelvins\n",
    "radius = 0.05 * 206264.8 * 149.6 * 10**9 #meters\n",
    "step = 15 * 10**12 #meters\n",
    "\n",
    "c = 3 * 10**8 #meters per sec , light speed\n",
    "h = 6.626070040812 * 10**(-34) #J*sec, Planck constant\n",
    "k = 1.380648528 * 10**(-23) #J/K, Boltzmann constant"
   ]
  },
  {
   "cell_type": "code",
   "execution_count": 59,
   "metadata": {},
   "outputs": [],
   "source": [
    "r = np.arange(radius, 2 * radius, step = step)\n",
    "freq = np.linspace (freq_ion, freq_max, 200)"
   ]
  },
  {
   "cell_type": "markdown",
   "metadata": {},
   "source": [
    "## functions"
   ]
  },
  {
   "cell_type": "markdown",
   "metadata": {},
   "source": [
    "ask:\n",
    "1) which n(H), n(e), n_H or n(H+) we need to calculate tau?\n",
    "2) what temperature used to calculate brightness?\n",
    "3) can we always define n(e) = n(H+)?\n"
   ]
  },
  {
   "cell_type": "code",
   "execution_count": 60,
   "metadata": {},
   "outputs": [],
   "source": [
    "def brightness(freq):\n",
    "    \"\"\"mean brightness\"\"\"\n",
    "    return 2 * h * freq**3 / c**2 / (np.exp(h * freq / (k * temperature)) - 1) \n",
    "    \n",
    "def sigma(freq):\n",
    "    \"\"\"return photoionization cross section\"\"\"\n",
    "    return 6.3 * 10**(-18) * np.power (freq_ion / freq, 3)\n",
    "\n",
    "def density_H(n_e):\n",
    "    \"\"\"number densities of ions as a function of r\"\"\"\n",
    "    return n_e**2 * alpha / integate.trapz(4 * m.pi * intensity(freq) / (h * freq) * sigma(freq), freq)\n",
    "\n",
    "def tau(freq, r):\n",
    "    \"\"\"opacity on distance r\"\"\"\n",
    "    return integrate.trapz(density_H(r)*sigma(freq))\n",
    "\n",
    "def intensity(freq,r):\n",
    "    \"\"\"mean intensity Iν as a function of frequency\"\"\"\n",
    "    return 0.25 * brightness(freq) * (radius / r)**2 * np.exp(-tau(freq, r))\n"
   ]
  },
  {
   "cell_type": "code",
   "execution_count": 61,
   "metadata": {},
   "outputs": [],
   "source": [
    "#integrate.trapz([4,4,4,4,4],[0,1,2,3,4])"
   ]
  },
  {
   "cell_type": "code",
   "execution_count": 62,
   "metadata": {},
   "outputs": [],
   "source": [
    "PHI = integrate.trapz(m.pi * brightness(freq) * np.exp(-0.00001) * sigma(freq) / (h * freq), freq)\n",
    "n_e = ..?"
   ]
  },
  {
   "cell_type": "code",
   "execution_count": 56,
   "metadata": {},
   "outputs": [],
   "source": [
    "ksi = PHI / (n_e * alpha)\n",
    "n_H = n_e / (1 + ksi)\n",
    "n_H_plus = n_e * ksi / (1 + ksi)"
   ]
  },
  {
   "cell_type": "markdown",
   "metadata": {},
   "source": [
    "ask:\n",
    "1) in pres there is sqrt(n_e * n_ion). where comes this formula from and what is n_ion (if n_ion = n_e = n_H)? "
   ]
  },
  {
   "cell_type": "code",
   "execution_count": null,
   "metadata": {},
   "outputs": [],
   "source": [
    "n_e_new = np.sqrt(n_e * n_H)"
   ]
  }
 ],
 "metadata": {
  "kernelspec": {
   "display_name": "Python 3",
   "language": "python",
   "name": "python3"
  },
  "language_info": {
   "codemirror_mode": {
    "name": "ipython",
    "version": 3
   },
   "file_extension": ".py",
   "mimetype": "text/x-python",
   "name": "python",
   "nbconvert_exporter": "python",
   "pygments_lexer": "ipython3",
   "version": "3.7.2"
  }
 },
 "nbformat": 4,
 "nbformat_minor": 2
}
